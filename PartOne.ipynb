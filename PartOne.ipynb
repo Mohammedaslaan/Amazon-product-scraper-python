{
  "nbformat": 4,
  "nbformat_minor": 0,
  "metadata": {
    "colab": {
      "provenance": [],
      "authorship_tag": "ABX9TyMCJgEQmGBBTrKo8E7q6hGP",
      "include_colab_link": true
    },
    "kernelspec": {
      "name": "python3",
      "display_name": "Python 3"
    },
    "language_info": {
      "name": "python"
    }
  },
  "cells": [
    {
      "cell_type": "markdown",
      "metadata": {
        "id": "view-in-github",
        "colab_type": "text"
      },
      "source": [
        "<a href=\"https://colab.research.google.com/github/Mohammedaslaan/Amazon-product-scraper-python/blob/main/PartOne.ipynb\" target=\"_parent\"><img src=\"https://colab.research.google.com/assets/colab-badge.svg\" alt=\"Open In Colab\"/></a>"
      ]
    },
    {
      "cell_type": "code",
      "execution_count": 1,
      "metadata": {
        "colab": {
          "base_uri": "https://localhost:8080/"
        },
        "id": "edv620wG-SEk",
        "outputId": "29e1256e-87d5-4f44-f1ae-a11631e0bdb3"
      },
      "outputs": [
        {
          "output_type": "stream",
          "name": "stdout",
          "text": [
            "                                         Product Name  \\\n",
            "0   American Tourister 32 Ltrs Black Casual Backpa...   \n",
            "1   Wesley Milestone 2.0 Casual Waterproof Laptop ...   \n",
            "2   ADISA 15.6 inch Laptop Backpack Office Bag Col...   \n",
            "3   Sirona Sanitary Disposable Bags - 75 Bags for ...   \n",
            "4   Lavie Sport Lino Large Size 63 cms Wheel Duffl...   \n",
            "5           Skybags Brat Black 46 Cms Casual Backpack   \n",
            "6   Half Moon 35 L Waterproof Laptop College Schoo...   \n",
            "7   SAFARI 15 Ltrs Sea Blue Casual/School/College ...   \n",
            "8   Gear CarryOn 16L Foldable Water Resistant Scho...   \n",
            "9   Half Moon Strike 35L Unisex Spacious School/La...   \n",
            "10  American Tourister VALEX BLUE LAPTOP BACKPACK ...   \n",
            "11  Wesley Milestone 2.0 Casual Waterproof Laptop ...   \n",
            "12  Half Moon Large 37L Laptop Bag Backpack for me...   \n",
            "13  FUR JADEN Anti Theft Number Lock Backpack Bag ...   \n",
            "14  Mi Step Out 12 L Mini Backpack (Small Size, Bl...   \n",
            "15  Gear Classic 20L Faux Leather Water Resistant ...   \n",
            "16  Safari Quill Laptop Backpack 26 Ltrs Water Res...   \n",
            "17  WILDHORN 31L Laptop Backpack for Men / Women I...   \n",
            "\n",
            "                                         Product Link ratting   reviews  \\\n",
            "0   https://amazon.com/American-Tourister-AMT-SCH-...     4.0  (52,312)   \n",
            "1   https://amazon.com/Wesley-Milestone-Waterproof...     4.3   (9,817)   \n",
            "2   https://amazon.com/ADISA-Laptop-Backpack-Offic...     3.8     (567)   \n",
            "3   https://amazon.com/Lavie-Sport-Duffle-Luggage-...     4.5   (2,730)   \n",
            "4   https://amazon.com/Skybags-Brat-Black-Casual-B...     3.9   (6,307)   \n",
            "5   https://amazon.com/Half-Moon-Waterproof-Backpa...     4.1   (3,777)   \n",
            "6   https://amazon.com/SAFARI-Ltrs-Casual-Backpack...     3.9  (15,254)   \n",
            "7   https://amazon.com/GEAR-Black-Blue-Backpack-ye...     4.0  (18,019)   \n",
            "8   https://amazon.com/Half-Moon-Spacious-Backpack...     3.7   (6,058)   \n",
            "9   https://amazon.com/American-Tourister-BACKPACK...     3.7     (116)   \n",
            "10  https://amazon.com/CHIMERA-Leather-Cross-Mobil...     4.1       (8)   \n",
            "11  https://amazon.com/CHIMERA-Leather-Travel-Pass...     4.0       (5)   \n",
            "12  https://amazon.com/Leather-Vegan-Organizer-Cos...     4.7       (3)   \n",
            "13  https://amazon.com/LIFE-TODAY-Travel-Shoulder-...     5.0       (3)   \n",
            "14  https://amazon.com/Hifly-Leather-Briefcase-Acc...     5.0       (1)   \n",
            "15  https://amazon.com/CHIMERA-Leather-Crossbody-M...     5.0       (3)   \n",
            "16  https://amazon.com/Built-NY-Diaper-Bag-Patrol/...     5.0       (1)   \n",
            "17  https://amazon.com/Hifly-Accessories-Expandabl...     5.0       (1)   \n",
            "\n",
            "     price  \n",
            "0   ₹1,199  \n",
            "1   ₹2,300  \n",
            "2     ₹565  \n",
            "3   ₹1,199  \n",
            "4     ₹499  \n",
            "5   ₹1,799  \n",
            "6     ₹225  \n",
            "7     ₹249  \n",
            "8     ₹949  \n",
            "9   ₹3,895  \n",
            "10    ₹659  \n",
            "11  ₹2,100  \n",
            "12    ₹689  \n",
            "13  ₹1,799  \n",
            "14    ₹299  \n",
            "15    ₹799  \n",
            "16    ₹214  \n",
            "17    ₹498  \n"
          ]
        }
      ],
      "source": [
        "import csv\n",
        "import pandas as pd\n",
        "import requests\n",
        "from bs4 import BeautifulSoup\n",
        "baseurl = \"https://amazon.com\"\n",
        "header = ({\n",
        "    'User-Agent': 'Mozilla/5.0 (Windows NT 10.0; Win64; x64) AppleWebKit/537.36 (KHTML, like Gecko) Chrome/111.0.0.0 Safari/537.36',\n",
        "    'Accept-Language':'en-US, en;q=0.5'\n",
        "})\n",
        "url = \"https://www.amazon.in/s?k=bags&crid=2M096C61O4MLT&qid=1653308124&sprefix=ba%2Caps%2C283&ref=sr_pg_1\"\n",
        "r = requests.get(url,headers=header)\n",
        "htmlcontent = r.content\n",
        "### Getting the html content\n",
        "# print(htmlcontent)\n",
        "### Parse the html content\n",
        "soup = BeautifulSoup(htmlcontent,'html.parser')\n",
        "\n",
        "names = soup.find_all(\"span\",class_=\"a-size-medium a-color-base a-text-normal\")\n",
        "name_list = []\n",
        "for i in names:\n",
        "    try:\n",
        "        name_list.append(i.text)\n",
        "    except:\n",
        "        name_list.append('NAN')\n",
        "\n",
        "\n",
        "links = soup.find_all(\"a\",class_=\"a-link-normal s-underline-text s-underline-link-text s-link-style a-text-normal\")\n",
        "links_list = []\n",
        "for i in links:\n",
        "    try:\n",
        "        links_list.append(baseurl+i.get('href'))\n",
        "    except:\n",
        "        links_list.append('NAN')\n",
        "\n",
        "\n",
        "rat = soup.find_all(\"div\",class_=\"a-row a-size-small\")\n",
        "ratting_list = []\n",
        "for i in rat:\n",
        "    try:\n",
        "        ratting_list.append((i.find(\"span\")).find('span',class_='a-size-base').text)\n",
        "    except:\n",
        "        ratting_list.append('NAN')\n",
        "\n",
        "\n",
        "norat = soup.find_all('span',class_=\"a-size-base s-underline-text\")\n",
        "noratting_list = []\n",
        "for i in norat:\n",
        "    try:\n",
        "        noratting_list.append(i.text)\n",
        "    except:\n",
        "        noratting_list.append('NAN')\n",
        "\n",
        "\n",
        "prise = soup.find_all('span',class_=\"a-price\");\n",
        "price_list = []\n",
        "for i in prise:\n",
        "    try:\n",
        "        price_list.append(i.find('span').text)\n",
        "    except:\n",
        "        price_list.append('NAN')\n",
        "\n",
        "# file = open('export_data.csv', 'a', newline='', encoding='utf-8')\n",
        "# writer = csv.writer(file)\n",
        "# headers = ([name_list,links_list,ratting_list,noratting_list,price_list])\n",
        "# writer.writerow(headers)\n",
        "# file.close()\n",
        "df = pd.DataFrame()\n",
        "df['Product Name'] = name_list\n",
        "df['Product Link'] = pd.Series(links_list)\n",
        "df['ratting'] = pd.Series(ratting_list)\n",
        "df['reviews'] = pd.Series(noratting_list)\n",
        "df['price'] = pd.Series(price_list)\n",
        "print(df)\n",
        "\n"
      ]
    },
    {
      "cell_type": "code",
      "source": [
        "print(df)\n",
        "df.to_csv('file1.csv')\n"
      ],
      "metadata": {
        "id": "fWnkHyi3-ToN"
      },
      "execution_count": null,
      "outputs": []
    }
  ]
}
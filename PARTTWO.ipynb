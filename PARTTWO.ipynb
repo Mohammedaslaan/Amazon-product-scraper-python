{
  "nbformat": 4,
  "nbformat_minor": 0,
  "metadata": {
    "colab": {
      "provenance": [],
      "authorship_tag": "ABX9TyM9/Ls2Ew19LLfF9kegADAw",
      "include_colab_link": true
    },
    "kernelspec": {
      "name": "python3",
      "display_name": "Python 3"
    },
    "language_info": {
      "name": "python"
    }
  },
  "cells": [
    {
      "cell_type": "markdown",
      "metadata": {
        "id": "view-in-github",
        "colab_type": "text"
      },
      "source": [
        "<a href=\"https://colab.research.google.com/github/Mohammedaslaan/Amazon-product-scraper-python/blob/main/PARTTWO.ipynb\" target=\"_parent\"><img src=\"https://colab.research.google.com/assets/colab-badge.svg\" alt=\"Open In Colab\"/></a>"
      ]
    },
    {
      "cell_type": "code",
      "execution_count": 1,
      "metadata": {
        "id": "8FHtwFgdvlLP"
      },
      "outputs": [],
      "source": [
        "import requests\n",
        "from bs4 import BeautifulSoup\n",
        "\n",
        "baseurl = \"https://www.amazon.com\"\n",
        "header = ({\n",
        "    'User-Agent': 'Mozilla/5.0 (Windows NT 10.0; Win64; x64) AppleWebKit/537.36 (KHTML, like Gecko) Chrome/111.0.0.0 Safari/537.36',\n",
        "    'Accept-Language':'en-US, en;q=0.5'\n",
        "})\n",
        "\n",
        "url = \"https://www.amazon.in/s?k=bags&ref=nb_sb_noss\"\n",
        "\n",
        "r = requests.get(url,headers=header)\n",
        "htmlcontent = r.content\n",
        "### Getting the html content\n",
        "\n",
        "### Parse the html content\n",
        "soup = BeautifulSoup(htmlcontent,'html.parser')\n"
      ]
    },
    {
      "cell_type": "code",
      "source": [
        "ancor_tags = soup.find_all('a',class_=\"a-link-normal s-underline-text s-underline-link-text s-link-style a-text-normal\")"
      ],
      "metadata": {
        "id": "Ajpm1SNSvvnF"
      },
      "execution_count": 2,
      "outputs": []
    },
    {
      "cell_type": "code",
      "source": [
        "links_list = []\n",
        "for link in ancor_tags:\n",
        "  links_list.append(baseurl+link.get('href'))\n",
        "for i in links_list:\n",
        "  print(i)"
      ],
      "metadata": {
        "colab": {
          "base_uri": "https://localhost:8080/"
        },
        "id": "6MO_sGLJxJVx",
        "outputId": "878acc8e-5dab-4054-878d-d593fa4beaf6"
      },
      "execution_count": 9,
      "outputs": [
        {
          "output_type": "stream",
          "name": "stdout",
          "text": [
            "https://www.amazon.com/sspa/click?ie=UTF8&spc=MToxNjgyNTIwNTg5OTYwMTQ5OjE2Nzk0Mjg2Mjg6c3BfYXRmOjIwMTI0MTk3MjQ5Mjk4OjowOjo&url=%2FDell-Pro-Slim-Backpack-15%2Fdp%2FB07PMQTB6T%2Fref%3Dsr_1_1_sspa%3Fkeywords%3Dbags%26qid%3D1679428628%26sr%3D8-1-spons%26sp_csd%3Dd2lkZ2V0TmFtZT1zcF9hdGY%26psc%3D1\n",
            "https://www.amazon.com/sspa/click?ie=UTF8&spc=MToxNjgyNTIwNTg5OTYwMTQ5OjE2Nzk0Mjg2Mjg6c3BfYXRmOjIwMTI4MjU4Nzk1MTk4OjowOjo&url=%2FSwisslook-Polyester-15-6-inch-Backpack-Waterproof%2Fdp%2FB07XYTZP4Z%2Fref%3Dsr_1_2_sspa%3Fkeywords%3Dbags%26qid%3D1679428628%26sr%3D8-2-spons%26sp_csd%3Dd2lkZ2V0TmFtZT1zcF9hdGY%26psc%3D1\n",
            "https://www.amazon.com/American-Tourister-AMT-SCH-02/dp/B07CJCGM1M/ref=sr_1_3?keywords=bags&qid=1679428628&sr=8-3\n",
            "https://www.amazon.com/Wesley-Milestone-Waterproof-Backpack-Business/dp/B084JGJ8PF/ref=sr_1_4?keywords=bags&qid=1679428628&sr=8-4\n",
            "https://www.amazon.com/Skybags-Brat-Black-Casual-Backpack/dp/B08Z1HHHTD/ref=sr_1_5?keywords=bags&qid=1679428628&sr=8-5\n",
            "https://www.amazon.com/Lavie-Sport-Duffle-Luggage-Trolley/dp/B097RJ22Q3/ref=sr_1_6?keywords=bags&qid=1679428628&sr=8-6\n",
            "https://www.amazon.com/ADISA-Laptop-Backpack-Office-College/dp/B09TPX22NF/ref=sr_1_7?keywords=bags&qid=1679428628&sr=8-7\n",
            "https://www.amazon.com/Number-Backpack-Compartment-Charging-Organizer/dp/B09VTCNN75/ref=sr_1_8?keywords=bags&qid=1679428628&sr=8-8\n",
            "https://www.amazon.com/Half-Moon-Waterproof-Backpack-Students/dp/B085MHDJ93/ref=sr_1_9?keywords=bags&qid=1679428628&sr=8-9\n",
            "https://www.amazon.com/FUR-JADEN-Leatherette-Polypropylene-DUFF05/dp/B07M9BRCQ5/ref=sr_1_10?keywords=bags&qid=1679428628&sr=8-10\n",
            "https://www.amazon.com/sspa/click?ie=UTF8&spc=MToxNjgyNTIwNTg5OTYwMTQ5OjE2Nzk0Mjg2Mjg6c3BfbXRmOjIwMTI0NzI0NzkyODk4OjowOjo&url=%2FLunars-Bingo-Laptop-Resistant-48L%2Fdp%2FB08YZ5XY31%2Fref%3Dsr_1_11_sspa%3Fkeywords%3Dbags%26qid%3D1679428628%26sr%3D8-11-spons%26sp_csd%3Dd2lkZ2V0TmFtZT1zcF9tdGY%26psc%3D1\n",
            "https://www.amazon.com/sspa/click?ie=UTF8&spc=MToxNjgyNTIwNTg5OTYwMTQ5OjE2Nzk0Mjg2Mjg6c3BfbXRmOjIwMTI5NTc1MjcwNzk4OjowOjo&url=%2FMartucci-Waterproof-Backpack-College-Business%2Fdp%2FB0BNSXJ2MY%2Fref%3Dsr_1_12_sspa%3Fkeywords%3Dbags%26qid%3D1679428628%26sr%3D8-12-spons%26sp_csd%3Dd2lkZ2V0TmFtZT1zcF9tdGY%26psc%3D1\n",
            "https://www.amazon.com/GEAR-Black-Blue-Backpack-years/dp/B019HA8AYG/ref=sr_1_13?keywords=bags&qid=1679428628&sr=8-13\n",
            "https://www.amazon.com/American-Tourister-AMT-SCH-02/dp/B07CJCGM1M/ref=sxin_25_in_ft_top_brands_non_branded_t1?content-id=amzn1.sym.96f246d6-ce72-46fc-883f-32ffe859766d%3Aamzn1.sym.96f246d6-ce72-46fc-883f-32ffe859766d&cv_ct_cx=bags&keywords=bags&pd_rd_i=B07CJCGM1M&pd_rd_r=d3c7ab62-72d2-42d1-8a33-4055708db34c&pd_rd_w=5Cyyp&pd_rd_wg=yHLuH&pf_rd_p=96f246d6-ce72-46fc-883f-32ffe859766d&pf_rd_r=8DSPMSJ6305FS82HA7RT&qid=1679428628&sbo=RZvfv%2F%2FHxDF%2BO5021pAnSA%3D%3D&sr=1-1-fa25b4f9-cd15-464b-8e7e-380c0a70e7f6\n",
            "https://www.amazon.com/American-Tourister-BACKPACK-COMPARTMENT-ORGANIZER/dp/B0BTD4FK9G/ref=sxin_25_in_ft_top_brands_non_branded_t1?content-id=amzn1.sym.96f246d6-ce72-46fc-883f-32ffe859766d%3Aamzn1.sym.96f246d6-ce72-46fc-883f-32ffe859766d&cv_ct_cx=bags&keywords=bags&pd_rd_i=B0BTD4FK9G&pd_rd_r=d3c7ab62-72d2-42d1-8a33-4055708db34c&pd_rd_w=5Cyyp&pd_rd_wg=yHLuH&pf_rd_p=96f246d6-ce72-46fc-883f-32ffe859766d&pf_rd_r=8DSPMSJ6305FS82HA7RT&qid=1679428628&sbo=RZvfv%2F%2FHxDF%2BO5021pAnSA%3D%3D&sr=1-2-fa25b4f9-cd15-464b-8e7e-380c0a70e7f6\n",
            "https://www.amazon.com/American-Tourister-AMT-SCH-BAG01/dp/B07CJCFNZG/ref=sxin_25_in_ft_top_brands_non_branded_t1?content-id=amzn1.sym.96f246d6-ce72-46fc-883f-32ffe859766d%3Aamzn1.sym.96f246d6-ce72-46fc-883f-32ffe859766d&cv_ct_cx=bags&keywords=bags&pd_rd_i=B07CJCFNZG&pd_rd_r=d3c7ab62-72d2-42d1-8a33-4055708db34c&pd_rd_w=5Cyyp&pd_rd_wg=yHLuH&pf_rd_p=96f246d6-ce72-46fc-883f-32ffe859766d&pf_rd_r=8DSPMSJ6305FS82HA7RT&qid=1679428628&sbo=EO%2BcdOgoisx3waG5xqcZQA%3D%3D&sr=1-3-fa25b4f9-cd15-464b-8e7e-380c0a70e7f6\n",
            "https://www.amazon.com/American-Tourister-BACKPACK-COMPARTMENT-ORGANIZER/dp/B0BTD4S4XF/ref=sxin_25_in_ft_top_brands_non_branded_t1?content-id=amzn1.sym.96f246d6-ce72-46fc-883f-32ffe859766d%3Aamzn1.sym.96f246d6-ce72-46fc-883f-32ffe859766d&cv_ct_cx=bags&keywords=bags&pd_rd_i=B0BTD4S4XF&pd_rd_r=d3c7ab62-72d2-42d1-8a33-4055708db34c&pd_rd_w=5Cyyp&pd_rd_wg=yHLuH&pf_rd_p=96f246d6-ce72-46fc-883f-32ffe859766d&pf_rd_r=8DSPMSJ6305FS82HA7RT&qid=1679428628&sbo=RZvfv%2F%2FHxDF%2BO5021pAnSA%3D%3D&sr=1-4-fa25b4f9-cd15-464b-8e7e-380c0a70e7f6\n",
            "https://www.amazon.com/American-Tourister-Polypropylene-Hardside-Suitcase/dp/B0B3HV8JZK/ref=sxin_25_in_ft_top_brands_non_branded_t1?content-id=amzn1.sym.96f246d6-ce72-46fc-883f-32ffe859766d%3Aamzn1.sym.96f246d6-ce72-46fc-883f-32ffe859766d&cv_ct_cx=bags&keywords=bags&pd_rd_i=B0B3HV8JZK&pd_rd_r=d3c7ab62-72d2-42d1-8a33-4055708db34c&pd_rd_w=5Cyyp&pd_rd_wg=yHLuH&pf_rd_p=96f246d6-ce72-46fc-883f-32ffe859766d&pf_rd_r=8DSPMSJ6305FS82HA7RT&qid=1679428628&sbo=RZvfv%2F%2FHxDF%2BO5021pAnSA%3D%3D&sr=1-5-fa25b4f9-cd15-464b-8e7e-380c0a70e7f6\n",
            "https://www.amazon.com/Rubberized-Waterproof-Rainproof-Dustproof-Adjustable/dp/B0B4X6VGSZ/ref=sxin_26_lscx_w_sp_ia?content-id=amzn1.sym.6be6952b-4534-4ca8-baf7-eb1ffc7503fc%3Aamzn1.sym.6be6952b-4534-4ca8-baf7-eb1ffc7503fc&cv_ct_cx=bags&keywords=bags&pd_rd_i=B0B4X6VGSZ&pd_rd_r=d3c7ab62-72d2-42d1-8a33-4055708db34c&pd_rd_w=UWAHq&pd_rd_wg=yHLuH&pf_rd_p=6be6952b-4534-4ca8-baf7-eb1ffc7503fc&pf_rd_r=8DSPMSJ6305FS82HA7RT&qid=1679428628&sbo=RZvfv%2F%2FHxDF%2BO5021pAnSA%3D%3D&sr=1-1-048da096-9aef-4913-b917-aeb227ff179a\n",
            "https://www.amazon.com/CHIMERA-Leather-Cross-Mobile-Texture/dp/B09ZXNXGN5/ref=sxin_26_lscx_w_sp_ia?content-id=amzn1.sym.6be6952b-4534-4ca8-baf7-eb1ffc7503fc%3Aamzn1.sym.6be6952b-4534-4ca8-baf7-eb1ffc7503fc&cv_ct_cx=bags&keywords=bags&pd_rd_i=B09ZXNXGN5&pd_rd_r=d3c7ab62-72d2-42d1-8a33-4055708db34c&pd_rd_w=UWAHq&pd_rd_wg=yHLuH&pf_rd_p=6be6952b-4534-4ca8-baf7-eb1ffc7503fc&pf_rd_r=8DSPMSJ6305FS82HA7RT&qid=1679428628&sbo=EO%2BcdOgoisx3waG5xqcZQA%3D%3D&sr=1-2-048da096-9aef-4913-b917-aeb227ff179a\n",
            "https://www.amazon.com/FLEX-BAGS-Synthetic-Faux-Leather-Handwallet/dp/B0B7GFPRST/ref=sxin_26_lscx_w_sp_ia?content-id=amzn1.sym.6be6952b-4534-4ca8-baf7-eb1ffc7503fc%3Aamzn1.sym.6be6952b-4534-4ca8-baf7-eb1ffc7503fc&cv_ct_cx=bags&keywords=bags&pd_rd_i=B0B7GFPRST&pd_rd_r=d3c7ab62-72d2-42d1-8a33-4055708db34c&pd_rd_w=UWAHq&pd_rd_wg=yHLuH&pf_rd_p=6be6952b-4534-4ca8-baf7-eb1ffc7503fc&pf_rd_r=8DSPMSJ6305FS82HA7RT&qid=1679428628&sbo=EO%2BcdOgoisx3waG5xqcZQA%3D%3D&sr=1-3-048da096-9aef-4913-b917-aeb227ff179a\n",
            "https://www.amazon.com/CHIMERA-Leather-Travel-Passport-Documents/dp/B09HCMXDK3/ref=sxin_26_lscx_w_sp_ia?content-id=amzn1.sym.6be6952b-4534-4ca8-baf7-eb1ffc7503fc%3Aamzn1.sym.6be6952b-4534-4ca8-baf7-eb1ffc7503fc&cv_ct_cx=bags&keywords=bags&pd_rd_i=B09HCMXDK3&pd_rd_r=d3c7ab62-72d2-42d1-8a33-4055708db34c&pd_rd_w=UWAHq&pd_rd_wg=yHLuH&pf_rd_p=6be6952b-4534-4ca8-baf7-eb1ffc7503fc&pf_rd_r=8DSPMSJ6305FS82HA7RT&qid=1679428628&sbo=EO%2BcdOgoisx3waG5xqcZQA%3D%3D&sr=1-4-048da096-9aef-4913-b917-aeb227ff179a\n",
            "https://www.amazon.com/Leather-Vegan-Organizer-Cosmetics-Vanity/dp/B0979F1QHB/ref=sxin_26_lscx_w_sp_ia?content-id=amzn1.sym.6be6952b-4534-4ca8-baf7-eb1ffc7503fc%3Aamzn1.sym.6be6952b-4534-4ca8-baf7-eb1ffc7503fc&cv_ct_cx=bags&keywords=bags&pd_rd_i=B0979F1QHB&pd_rd_r=d3c7ab62-72d2-42d1-8a33-4055708db34c&pd_rd_w=UWAHq&pd_rd_wg=yHLuH&pf_rd_p=6be6952b-4534-4ca8-baf7-eb1ffc7503fc&pf_rd_r=8DSPMSJ6305FS82HA7RT&qid=1679428628&sbo=RZvfv%2F%2FHxDF%2BO5021pAnSA%3D%3D&sr=1-5-048da096-9aef-4913-b917-aeb227ff179a\n",
            "https://www.amazon.com/LIFE-TODAY-Travel-Shoulder-inches/dp/B08V362SBS/ref=sxin_26_lscx_w_sp_ia?content-id=amzn1.sym.6be6952b-4534-4ca8-baf7-eb1ffc7503fc%3Aamzn1.sym.6be6952b-4534-4ca8-baf7-eb1ffc7503fc&cv_ct_cx=bags&keywords=bags&pd_rd_i=B08V362SBS&pd_rd_r=d3c7ab62-72d2-42d1-8a33-4055708db34c&pd_rd_w=UWAHq&pd_rd_wg=yHLuH&pf_rd_p=6be6952b-4534-4ca8-baf7-eb1ffc7503fc&pf_rd_r=8DSPMSJ6305FS82HA7RT&qid=1679428628&sbo=EO%2BcdOgoisx3waG5xqcZQA%3D%3D&sr=1-6-048da096-9aef-4913-b917-aeb227ff179a\n",
            "https://www.amazon.com/Hifly-Leather-Briefcase-Accessories-Suitcase/dp/B08QMCH3MR/ref=sxin_26_lscx_w_sp_ia?content-id=amzn1.sym.6be6952b-4534-4ca8-baf7-eb1ffc7503fc%3Aamzn1.sym.6be6952b-4534-4ca8-baf7-eb1ffc7503fc&cv_ct_cx=bags&keywords=bags&pd_rd_i=B08QMCH3MR&pd_rd_r=d3c7ab62-72d2-42d1-8a33-4055708db34c&pd_rd_w=UWAHq&pd_rd_wg=yHLuH&pf_rd_p=6be6952b-4534-4ca8-baf7-eb1ffc7503fc&pf_rd_r=8DSPMSJ6305FS82HA7RT&qid=1679428628&sbo=RZvfv%2F%2FHxDF%2BO5021pAnSA%3D%3D&sr=1-7-048da096-9aef-4913-b917-aeb227ff179a\n",
            "https://www.amazon.com/CHIMERA-Leather-Crossbody-Mobile-Organizer/dp/B097BLHTL6/ref=sxin_26_lscx_w_sp_ia?content-id=amzn1.sym.6be6952b-4534-4ca8-baf7-eb1ffc7503fc%3Aamzn1.sym.6be6952b-4534-4ca8-baf7-eb1ffc7503fc&cv_ct_cx=bags&keywords=bags&pd_rd_i=B097BLHTL6&pd_rd_r=d3c7ab62-72d2-42d1-8a33-4055708db34c&pd_rd_w=UWAHq&pd_rd_wg=yHLuH&pf_rd_p=6be6952b-4534-4ca8-baf7-eb1ffc7503fc&pf_rd_r=8DSPMSJ6305FS82HA7RT&qid=1679428628&sbo=RZvfv%2F%2FHxDF%2BO5021pAnSA%3D%3D&sr=1-8-048da096-9aef-4913-b917-aeb227ff179a\n",
            "https://www.amazon.com/Gear-Black-Laptop-Backpack-LBPASPIRE0104/dp/B075MK4TXP/ref=sr_1_14?keywords=bags&qid=1679428628&sr=8-14\n",
            "https://www.amazon.com/SAFARI-Ltrs-Casual-Backpack-DAYPACKNEO15CBSEB/dp/B07Q7CNPMV/ref=sr_1_15?keywords=bags&qid=1679428628&sr=8-15\n",
            "https://www.amazon.com/Lunars-Bingo-Laptop-Resistant-48L/dp/B08YZ8FFBZ/ref=sr_1_16?keywords=bags&qid=1679428628&sr=8-16\n",
            "https://www.amazon.com/Rucksack-Travel-Backpack-Trekking-Compartment/dp/B07YDGQQN5/ref=sr_1_17?keywords=bags&qid=1679428628&sr=8-17\n",
            "https://www.amazon.com/Wesley-Milestone-Waterproof-Backpack-Business/dp/B085S444JV/ref=sr_1_18?keywords=bags&qid=1679428628&sr=8-18\n",
            "https://www.amazon.com/Half-Moon-Spacious-Backpack-Compartment/dp/B0BLVQ9NTD/ref=sr_1_19?keywords=bags&qid=1679428628&sr=8-19\n",
            "https://www.amazon.com/American-Tourister-BACKPACK-COMPARTMENT-ORGANIZER/dp/B0BTD4FK9G/ref=sr_1_20?keywords=bags&qid=1679428628&sr=8-20\n",
            "https://www.amazon.com/sspa/click?ie=UTF8&spc=MToxNjgyNTIwNTg5OTYwMTQ5OjE2Nzk0Mjg2Mjg6c3BfYnRmOjIwMDk3Njc1NDMzNjk4OjowOjo&url=%2FIPad-Sleeves-Universal-Canvas-Collection%2Fdp%2FB0BMLWQ9H3%2Fref%3Dsr_1_21_sspa%3Fkeywords%3Dbags%26qid%3D1679428628%26sr%3D8-21-spons%26sp_csd%3Dd2lkZ2V0TmFtZT1zcF9idGY%26psc%3D1\n",
            "https://www.amazon.com/sspa/click?ie=UTF8&spc=MToxNjgyNTIwNTg5OTYwMTQ5OjE2Nzk0Mjg2Mjg6c3BfYnRmOjIwMTI5NTc1MjcwODk4OjowOjo&url=%2FMartucci-Waterproof-Backpack-College-Business%2Fdp%2FB0B1HM2ZGX%2Fref%3Dsr_1_22_sspa%3Fkeywords%3Dbags%26qid%3D1679428628%26sr%3D8-22-spons%26sp_csd%3Dd2lkZ2V0TmFtZT1zcF9idGY%26psc%3D1\n"
          ]
        }
      ]
    },
    {
      "cell_type": "code",
      "source": [
        "baseurl+ancor_tags[0].get('href')"
      ],
      "metadata": {
        "colab": {
          "base_uri": "https://localhost:8080/",
          "height": 53
        },
        "id": "HwFFWGdpv8-E",
        "outputId": "ebd70eb5-8223-4b95-c5bc-c112e0690b14"
      },
      "execution_count": 7,
      "outputs": [
        {
          "output_type": "execute_result",
          "data": {
            "text/plain": [
              "'https://www.amazon.com/sspa/click?ie=UTF8&spc=MToxNjgyNTIwNTg5OTYwMTQ5OjE2Nzk0Mjg2Mjg6c3BfYXRmOjIwMTI0MTk3MjQ5Mjk4OjowOjo&url=%2FDell-Pro-Slim-Backpack-15%2Fdp%2FB07PMQTB6T%2Fref%3Dsr_1_1_sspa%3Fkeywords%3Dbags%26qid%3D1679428628%26sr%3D8-1-spons%26sp_csd%3Dd2lkZ2V0TmFtZT1zcF9hdGY%26psc%3D1'"
            ],
            "application/vnd.google.colaboratory.intrinsic+json": {
              "type": "string"
            }
          },
          "metadata": {},
          "execution_count": 7
        }
      ]
    },
    {
      "cell_type": "code",
      "source": [
        "###empty initialisation\n",
        "titles_list = []\n",
        "Description_list = []\n",
        "Asin_list = []\n",
        "Manufacturer_list =[]\n",
        "Ratting_list = []\n",
        "view_list = []\n",
        "directtitles_list = []\n",
        "price_list = []"
      ],
      "metadata": {
        "id": "U6VaiXO-wBK4"
      },
      "execution_count": 10,
      "outputs": []
    },
    {
      "cell_type": "markdown",
      "source": [
        "First we are getting data for one particular link than we will iterate the same method to all the links"
      ],
      "metadata": {
        "id": "Xci6Ggxv24PI"
      }
    },
    {
      "cell_type": "code",
      "source": [
        "indiProduct = 'https://www.amazon.in/American-Tourister-AMT-SCH-02/dp/B07CJCGM1M/ref=sr_1_3?keywords=bags&qid=1679418459&sr=8-3'"
      ],
      "metadata": {
        "id": "w_azoccd23RG"
      },
      "execution_count": 24,
      "outputs": []
    },
    {
      "cell_type": "code",
      "source": [
        "new_r = requests.get(indiProduct, headers=header)\n",
        "new_htmlcontent = new_r.content\n",
        "new_soup = BeautifulSoup(new_htmlcontent, 'html.parser')"
      ],
      "metadata": {
        "id": "iB8R5UOh3BPo"
      },
      "execution_count": 25,
      "outputs": []
    },
    {
      "cell_type": "code",
      "source": [
        "title = new_soup.find(\"title\").text.strip()\n",
        "print(title)"
      ],
      "metadata": {
        "colab": {
          "base_uri": "https://localhost:8080/"
        },
        "id": "J4C9hifE3Ed3",
        "outputId": "d1a315ad-eaae-4a7d-d3a5-15e269e75886"
      },
      "execution_count": 26,
      "outputs": [
        {
          "output_type": "stream",
          "name": "stdout",
          "text": [
            "Buy American Tourister 32 Ltrs Black Casual Backpack (AMT FIZZ SCH BAG 02 - BLACK) at Amazon.in\n"
          ]
        }
      ]
    },
    {
      "cell_type": "code",
      "source": [
        "###Getting description of products in buttet points\n",
        "### when too many times fetch done then amazon will not allow to fetch for some time. so wait and then fetch again\n",
        "Description = new_soup.find('div',attrs={\"id\":'feature-bullets'})\n",
        "Description.text.split(',')"
      ],
      "metadata": {
        "colab": {
          "base_uri": "https://localhost:8080/"
        },
        "id": "3czqzhRc3ICO",
        "outputId": "d49a7b0a-5e22-429c-c8b8-4620f7f96888"
      },
      "execution_count": 27,
      "outputs": [
        {
          "output_type": "execute_result",
          "data": {
            "text/plain": [
              "['   Laptop Compatibility: No',\n",
              " ' Strap Type: Adjustable',\n",
              " ' Trolley Support: No. With Rain Cover : No    Outer Material: Polyester',\n",
              " ' Color: Black    Water Resistance: Water resistant ',\n",
              " ' not Waterproof    Capacity: 32 liters; Dimensions: 31.5 x 22 x 49.5 Centimeters    Number of Wheels: 0',\n",
              " ' Number of compartments: 3    Warranty type: Manufacturer; 1 year International warranty valid for 1 year from the original date of    Mesh pockets on both sides to accommodate your sipper or bottle and umbrella    Mesh Padding on back & shoulder strap to provide comfort & better back support    \\n']"
            ]
          },
          "metadata": {},
          "execution_count": 27
        }
      ]
    },
    {
      "cell_type": "code",
      "source": [
        "###getting asin value\n",
        "ASIN = new_soup.find(\"input\",attrs={\"id\":'ASIN'})\n",
        "ASIN.get('value')"
      ],
      "metadata": {
        "colab": {
          "base_uri": "https://localhost:8080/",
          "height": 36
        },
        "id": "4M-2OiEJ3KnN",
        "outputId": "55aef27b-d515-4a80-9409-dc6d4e4a298d"
      },
      "execution_count": 28,
      "outputs": [
        {
          "output_type": "execute_result",
          "data": {
            "text/plain": [
              "'B07CJCGM1M'"
            ],
            "application/vnd.google.colaboratory.intrinsic+json": {
              "type": "string"
            }
          },
          "metadata": {},
          "execution_count": 28
        }
      ]
    },
    {
      "cell_type": "code",
      "source": [
        "###getting manufacturer details\n",
        "Manufacturer = new_soup.find_all(\"td\",attrs={\"class\":\"a-size-base prodDetAttrValue\"})\n",
        "Manufacturer[13].text.strip()"
      ],
      "metadata": {
        "colab": {
          "base_uri": "https://localhost:8080/",
          "height": 36
        },
        "id": "LcWSXW4z3N1B",
        "outputId": "b68a3a7e-8ad9-4b73-93c9-5b586143f74c"
      },
      "execution_count": 29,
      "outputs": [
        {
          "output_type": "execute_result",
          "data": {
            "text/plain": [
              "'Samsonite'"
            ],
            "application/vnd.google.colaboratory.intrinsic+json": {
              "type": "string"
            }
          },
          "metadata": {},
          "execution_count": 29
        }
      ]
    },
    {
      "cell_type": "code",
      "source": [
        "###getting ratings \n",
        "rats = new_soup.find('span',attrs={'id':'acrPopover'})\n",
        "rats.get('title')"
      ],
      "metadata": {
        "colab": {
          "base_uri": "https://localhost:8080/",
          "height": 36
        },
        "id": "UiQPgWia3R3P",
        "outputId": "a439372a-c3d0-4dfd-ef1b-eb59fac3807b"
      },
      "execution_count": 30,
      "outputs": [
        {
          "output_type": "execute_result",
          "data": {
            "text/plain": [
              "'4.0 out of 5 stars'"
            ],
            "application/vnd.google.colaboratory.intrinsic+json": {
              "type": "string"
            }
          },
          "metadata": {},
          "execution_count": 30
        }
      ]
    },
    {
      "cell_type": "code",
      "source": [
        "###getting number of views\n",
        "ratts = new_soup.find_all('a',attrs={'id':'acrCustomerReviewLink'})\n",
        "ratts[0].text"
      ],
      "metadata": {
        "colab": {
          "base_uri": "https://localhost:8080/",
          "height": 36
        },
        "id": "w4Tr0Dnr3UVq",
        "outputId": "3d26684b-643b-4c25-a060-33ec8eb82f94"
      },
      "execution_count": 31,
      "outputs": [
        {
          "output_type": "execute_result",
          "data": {
            "text/plain": [
              "' 52,313 ratings '"
            ],
            "application/vnd.google.colaboratory.intrinsic+json": {
              "type": "string"
            }
          },
          "metadata": {},
          "execution_count": 31
        }
      ]
    },
    {
      "cell_type": "code",
      "source": [
        "###getting titles\n",
        "new_soup.find('title').text"
      ],
      "metadata": {
        "colab": {
          "base_uri": "https://localhost:8080/",
          "height": 36
        },
        "id": "oGJ1hNVW3XRQ",
        "outputId": "a3fe794f-b153-425c-927e-07d08c2cc5a5"
      },
      "execution_count": 32,
      "outputs": [
        {
          "output_type": "execute_result",
          "data": {
            "text/plain": [
              "'Buy American Tourister 32 Ltrs Black Casual Backpack (AMT FIZZ SCH BAG 02 - BLACK) at Amazon.in'"
            ],
            "application/vnd.google.colaboratory.intrinsic+json": {
              "type": "string"
            }
          },
          "metadata": {},
          "execution_count": 32
        }
      ]
    },
    {
      "cell_type": "code",
      "source": [
        "###getting price\n",
        "price =new_soup.find('span',class_=\"a-price aok-align-center\")\n",
        "p = price.find('span',class_=\"a-offscreen\")\n",
        "p.text"
      ],
      "metadata": {
        "colab": {
          "base_uri": "https://localhost:8080/",
          "height": 36
        },
        "id": "h011UkJq3ZY-",
        "outputId": "d816c639-2cdd-4ce1-cde8-a26309016e82"
      },
      "execution_count": 33,
      "outputs": [
        {
          "output_type": "execute_result",
          "data": {
            "text/plain": [
              "'₹1,199.00'"
            ],
            "application/vnd.google.colaboratory.intrinsic+json": {
              "type": "string"
            }
          },
          "metadata": {},
          "execution_count": 33
        }
      ]
    },
    {
      "cell_type": "markdown",
      "source": [
        "Now We will iterate the same process on all the product links.\n",
        "Sometimes we will error because amazon server will not give as permission to fetch data iterativly. amazon server detect as a computer trying to fetch data.\n",
        "so if that occurs wait for some time and try again"
      ],
      "metadata": {
        "id": "E6I9nKki3fC7"
      }
    },
    {
      "cell_type": "code",
      "source": [
        "for indiProduct in links_list:\n",
        "  new_r = requests.get(indiProduct, headers=header)\n",
        "  new_htmlcontent = new_r.content\n",
        "  new_soup = BeautifulSoup(new_htmlcontent, 'html.parser')\n",
        "  title = new_soup.find(\"span\",attrs={\"id\":\"productTitle\"})\n",
        "  print(title)"
      ],
      "metadata": {
        "colab": {
          "base_uri": "https://localhost:8080/"
        },
        "id": "JGwH_SxPxjLS",
        "outputId": "05f445e4-323e-4e59-cd75-770b1e9eb9c9"
      },
      "execution_count": 11,
      "outputs": [
        {
          "output_type": "stream",
          "name": "stdout",
          "text": [
            "<span class=\"a-size-large product-title-word-break\" id=\"productTitle\">        DELL PO1520PS Laptop Bag 15\" Backpack Black Green - Laptop Bags (Backpack, 15\" Shoulder Strap, 22oz, Black, Green)       </span>\n",
            "<span class=\"a-size-large product-title-word-break\" id=\"productTitle\">        RL Swisslook Polyster Bange Series 45L USB Travel Laptop Backpack 15.6\" Black       </span>\n",
            "None\n",
            "<span class=\"a-size-large product-title-word-break\" id=\"productTitle\">        Wesley Milestone 2.0 15.6 inch 30 L Casual Waterproof Laptop Backpack/Office Bag/School Bag/College Bag/Business Bag/Unisex Travel Backpack (Blue and Black)       </span>\n",
            "None\n",
            "<span class=\"a-size-large product-title-word-break\" id=\"productTitle\">        Lavie Sport Lino Large Size 63 cms Wheel Duffel Bag for Travel | Luggage Bag | Travel Bag (Black)       </span>\n",
            "<span class=\"a-size-large product-title-word-break\" id=\"productTitle\">        ADISA 15.6 inch Laptop Backpack Office Bag College Travel Back Pack 32 Ltrs (z-Navy Blue)       </span>\n",
            "<span class=\"a-size-large product-title-word-break\" id=\"productTitle\">        Fur Jaden Anti Theft Number Lock Backpack Bag with 15.6 Inch Laptop Compartment, USB Charging Port &amp; Organizer Pocket for Men Women Boys Girls, Grey, L, Anti Theft Backpack with Number Lock       </span>\n",
            "<span class=\"a-size-large product-title-word-break\" id=\"productTitle\">        Half Moon 35 L Waterproof Laptop College School Office Bag Backpack for Men Women Boys Girls with 15.6 inch Padded Laptop Compartment &amp; Rain Cover (Navy_Blue), Navy Blue, M, backpack       </span>\n",
            "None\n",
            "<span class=\"a-size-large product-title-word-break\" id=\"productTitle\">        Lunar's Bingo - 48 L Laptop Office/School/Travel/Business Backpack Water Resistant - Fits Up to 15.6 Inch Laptop Notebook with 1 Year Warranty       </span>\n",
            "<span class=\"a-size-large product-title-word-break\" id=\"productTitle\">        Martucci 17 inch 35L Casual Waterproof Laptop Backpack/Office Bag/School Bag/College Bag/Business Bag/Unisex Travel Backpack(Black), Black, L, Laptop Backpack       </span>\n",
            "<span class=\"a-size-large product-title-word-break\" id=\"productTitle\">        Gear Adult Casual Backpack One Size Black And Blue       </span>\n",
            "None\n",
            "None\n",
            "<span class=\"a-size-large product-title-word-break\" id=\"productTitle\">        American Tourister 29 Ltrs Blue Casual Backpack (AMT Mist SCH BAG01 Blue)       </span>\n",
            "None\n",
            "None\n",
            "<span class=\"a-size-large product-title-word-break\" id=\"productTitle\">        Rubberized Waterproof Dust Proof Rain Cover for Backpack Bags, 30L-40L Rainproof Dustproof Protector Raincover Elastic Adjustable for Hiking Camping Traveling Climbing Cycling, Black       </span>\n",
            "None\n",
            "None\n",
            "None\n",
            "None\n",
            "None\n",
            "None\n",
            "None\n",
            "None\n",
            "<span class=\"a-size-large product-title-word-break\" id=\"productTitle\">        SAFARI 15 Ltrs Sea Blue Casual Backpack (DAYPACKNEO15CBSEB)       </span>\n",
            "<span class=\"a-size-large product-title-word-break\" id=\"productTitle\">        Lunar's Bingo - 48 L Laptop Office/School/Travel/Business Backpack Water Resistant - Fits Up to 15.6 Inch Laptop Notebook with 1 Year Warranty, Black, L, casual backpack       </span>\n",
            "<span class=\"a-size-large product-title-word-break\" id=\"productTitle\">        Fur Jaden 55 LTR Rucksack Travel Backpack Bag for Trekking, Hiking with Shoe Compartment, Black Grey, L, backpacks       </span>\n",
            "<span class=\"a-size-large product-title-word-break\" id=\"productTitle\">        Wesley Milestone 15.6 inch Casual Waterproof Laptop Backpack/Office Bag/School Bag/College Bag/Business Bag/Unisex Travel Backpack (30 litres, 2 Main &amp; 1 Small Compartment, Grey and Black)       </span>\n",
            "<span class=\"a-size-large product-title-word-break\" id=\"productTitle\">        Half Moon Strike 35L Unisex Spacious School/ Laptop/ College/ Office Travel Backpack Bag for Men Women Boys &amp; Girls with 15.6 inch Padded Laptop Compartment &amp; Multiple Pockets, Black, Mid Size, school bag       </span>\n",
            "None\n",
            "None\n",
            "<span class=\"a-size-large product-title-word-break\" id=\"productTitle\">        Martucci 16 inch 36L Casual Waterproof Laptop Backpack/Office Bag/School Bag/College Bag/Business Bag/Unisex Travel Backpack, Black, L, Laptop Backpack       </span>\n"
          ]
        }
      ]
    },
    {
      "cell_type": "code",
      "source": [
        "from traitlets.config.application import T\n",
        "for indiProduct in links_list:\n",
        "  new_r = requests.get(indiProduct, headers=header)\n",
        "  new_htmlcontent = new_r.content\n",
        "  new_soup = BeautifulSoup(new_htmlcontent, 'html.parser')\n",
        "  title = new_soup.find(\"span\",attrs={\"id\":\"productTitle\"})\n",
        "  try:\n",
        "    titles_list.append(title.text.strip())\n",
        "  except:\n",
        "    titles_list.append(\"NAN\")\n",
        "\n",
        "for i in titles_list:\n",
        "  print(i)"
      ],
      "metadata": {
        "colab": {
          "base_uri": "https://localhost:8080/"
        },
        "id": "SjtKAL7hx-A4",
        "outputId": "393c0d61-f2b0-485e-9337-ba7ffb0a420f"
      },
      "execution_count": 12,
      "outputs": [
        {
          "output_type": "stream",
          "name": "stdout",
          "text": [
            "DELL PO1520PS Laptop Bag 15\" Backpack Black Green - Laptop Bags (Backpack, 15\" Shoulder Strap, 22oz, Black, Green)\n",
            "RL Swisslook Polyster Bange Series 45L USB Travel Laptop Backpack 15.6\" Black\n",
            "NAN\n",
            "Wesley Milestone 2.0 15.6 inch 30 L Casual Waterproof Laptop Backpack/Office Bag/School Bag/College Bag/Business Bag/Unisex Travel Backpack (Blue and Black)\n",
            "NAN\n",
            "Lavie Sport Lino Large Size 63 cms Wheel Duffel Bag for Travel | Luggage Bag | Travel Bag (Black)\n",
            "ADISA 15.6 inch Laptop Backpack Office Bag College Travel Back Pack 32 Ltrs (z-Navy Blue)\n",
            "Fur Jaden Anti Theft Number Lock Backpack Bag with 15.6 Inch Laptop Compartment, USB Charging Port & Organizer Pocket for Men Women Boys Girls, Grey, L, Anti Theft Backpack with Number Lock\n",
            "Half Moon 35 L Waterproof Laptop College School Office Bag Backpack for Men Women Boys Girls with 15.6 inch Padded Laptop Compartment & Rain Cover (Navy_Blue), Navy Blue, M, backpack\n",
            "NAN\n",
            "Lunar's Bingo - 48 L Laptop Office/School/Travel/Business Backpack Water Resistant - Fits Up to 15.6 Inch Laptop Notebook with 1 Year Warranty\n",
            "Martucci 17 inch 35L Casual Waterproof Laptop Backpack/Office Bag/School Bag/College Bag/Business Bag/Unisex Travel Backpack(Black), Black, L, Laptop Backpack\n",
            "Gear Adult Casual Backpack One Size Black And Blue\n",
            "NAN\n",
            "NAN\n",
            "American Tourister 29 Ltrs Blue Casual Backpack (AMT Mist SCH BAG01 Blue)\n",
            "NAN\n",
            "NAN\n",
            "Rubberized Waterproof Dust Proof Rain Cover for Backpack Bags, 30L-40L Rainproof Dustproof Protector Raincover Elastic Adjustable for Hiking Camping Traveling Climbing Cycling, Black\n",
            "NAN\n",
            "NAN\n",
            "NAN\n",
            "NAN\n",
            "NAN\n",
            "NAN\n",
            "NAN\n",
            "NAN\n",
            "SAFARI 15 Ltrs Sea Blue Casual Backpack (DAYPACKNEO15CBSEB)\n",
            "Lunar's Bingo - 48 L Laptop Office/School/Travel/Business Backpack Water Resistant - Fits Up to 15.6 Inch Laptop Notebook with 1 Year Warranty, Black, L, casual backpack\n",
            "Fur Jaden 55 LTR Rucksack Travel Backpack Bag for Trekking, Hiking with Shoe Compartment, Black Grey, L, backpacks\n",
            "Wesley Milestone 15.6 inch Casual Waterproof Laptop Backpack/Office Bag/School Bag/College Bag/Business Bag/Unisex Travel Backpack (30 litres, 2 Main & 1 Small Compartment, Grey and Black)\n",
            "Half Moon Strike 35L Unisex Spacious School/ Laptop/ College/ Office Travel Backpack Bag for Men Women Boys & Girls with 15.6 inch Padded Laptop Compartment & Multiple Pockets, Black, Mid Size, school bag\n",
            "NAN\n",
            "NAN\n",
            "Martucci 16 inch 36L Casual Waterproof Laptop Backpack/Office Bag/School Bag/College Bag/Business Bag/Unisex Travel Backpack, Black, L, Laptop Backpack\n"
          ]
        }
      ]
    },
    {
      "cell_type": "code",
      "source": [
        "for indiProduct in links_list:\n",
        "  new_r = requests.get(indiProduct, headers=header)\n",
        "  new_htmlcontent = new_r.content\n",
        "  new_soup = BeautifulSoup(new_htmlcontent, 'html.parser')\n",
        "  \n",
        "  #appending to titles_list\n",
        "  try:\n",
        "    titles_list.append(new_soup.find('title').text)\n",
        "  except:\n",
        "    titles_list.append('NAN')\n",
        "\n",
        "  #appending description to description list\n",
        "  try:\n",
        "    Description = new_soup.find('div',attrs={\"id\":'feature-bullets'})\n",
        "    desc= Description.text.split(',')\n",
        "    Description_list.append(desc)\n",
        "  except:\n",
        "    Description_list.append('NAN')\n",
        "\n",
        "  #appending ASIN number to asin list\n",
        "  try:\n",
        "    ASIN = new_soup.find(\"input\",attrs={\"id\":'ASIN'})\n",
        "    Asin_list.append(ASIN.get('value'))\n",
        "  except:\n",
        "    Asin_list.append('NAN')\n",
        "\n",
        "  ##appending manufacturer name\n",
        "  try:\n",
        "    Manufacturer = new_soup.find_all(\"td\",attrs={\"class\":\"a-size-base prodDetAttrValue\"})\n",
        "    name = Manufacturer[13].text.strip()\n",
        "    Manufacturer_list.append(name)\n",
        "  except:\n",
        "    Manufacturer_list.append('NAN')\n",
        "\n",
        "\n",
        "  ##appending ratting\n",
        "  try:\n",
        "    rats = new_soup.find('span',attrs={'id':'acrPopover'})\n",
        "    rt = rats.get('title') \n",
        "    Ratting_list.append(rt) \n",
        "  except:\n",
        "    Ratting_list.append('NAN') \n",
        "\n",
        "  ##appeding views\n",
        "  try:\n",
        "    views = new_soup.find_all('a',attrs={'id':'acrCustomerReviewLink'})\n",
        "    v = views[0].text\n",
        "    view_list.append(v)\n",
        "  except:\n",
        "    view_list.append('NAN')\n",
        "\n",
        "  ##appending price\n",
        "  try:\n",
        "    price =new_soup.find('span',class_=\"a-price aok-align-center\")\n",
        "    p = price.find('span',class_=\"a-offscreen\")\n",
        "    price_list.append(p.text)\n",
        "  except:\n",
        "    price_list.append('NAN')"
      ],
      "metadata": {
        "id": "KEPN9lX3zBii"
      },
      "execution_count": 16,
      "outputs": []
    },
    {
      "cell_type": "code",
      "source": [
        "import pandas as pd\n",
        "df = pd.DataFrame()\n",
        "df['title'] = titles_list\n",
        "df['Description'] = pd.Series(Description_list)\n",
        "df['ASIN'] = pd.Series(Asin_list)\n",
        "df['Manufacturer'] = pd.Series(Manufacturer_list)\n",
        "df['Ratting'] = pd.Series(Ratting_list)\n",
        "df['Views'] = pd.Series(view_list)\n",
        "df['Price'] = pd.Series(price_list)\n",
        "df"
      ],
      "metadata": {
        "colab": {
          "base_uri": "https://localhost:8080/",
          "height": 423
        },
        "id": "-O3cVcQe0Qrb",
        "outputId": "ae57444d-c96d-4d02-9978-7b8934c64be6"
      },
      "execution_count": 18,
      "outputs": [
        {
          "output_type": "execute_result",
          "data": {
            "text/plain": [
              "                                                title  \\\n",
              "0   DELL PO1520PS Laptop Bag 15\" Backpack Black Gr...   \n",
              "1   RL Swisslook Polyster Bange Series 45L USB Tra...   \n",
              "2                                                 NAN   \n",
              "3   Wesley Milestone 2.0 15.6 inch 30 L Casual Wat...   \n",
              "4                                                 NAN   \n",
              "..                                                ...   \n",
              "68  Amazon.com | Wesley Milestone 15.6 inch Casual...   \n",
              "69  Amazon.com: Half Moon Strike 35L Unisex Spacio...   \n",
              "70                       \\n      Page Not Found\\n       \n",
              "71                       \\n      Page Not Found\\n       \n",
              "72  Amazon.com: Martucci 16 inch 36L Casual Waterp...   \n",
              "\n",
              "                                          Description        ASIN  \\\n",
              "0   [  \\n This fits your .\\n     \\n  Make sure thi...  B07PMQTB6T   \n",
              "1   [  \\n This fits your .\\n     \\n  Make sure thi...  B07XYTZP4Z   \n",
              "2                                                 NAN         NAN   \n",
              "3   [  \\n This fits your .\\n     \\n  Make sure thi...  B084JGJ8PF   \n",
              "4                                                 NAN         NAN   \n",
              "..                                                ...         ...   \n",
              "68                                                NAN         NaN   \n",
              "69  [  \\n This fits your .\\n     \\n  Make sure thi...         NaN   \n",
              "70                                                NaN         NaN   \n",
              "71                                                NaN         NaN   \n",
              "72                                                NaN         NaN   \n",
              "\n",
              "   Manufacturer             Ratting            Views    Price  \n",
              "0           NAN  4.6 out of 5 stars   1,590 ratings    $58.70  \n",
              "1           NAN  4.3 out of 5 stars   1,313 ratings   $137.00  \n",
              "2           NAN                 NAN              NAN      NAN  \n",
              "3           NAN  4.3 out of 5 stars   5,617 ratings    $76.00  \n",
              "4           NAN                 NAN              NAN      NAN  \n",
              "..          ...                 ...              ...      ...  \n",
              "68          NaN                 NaN              NaN      NaN  \n",
              "69          NaN                 NaN              NaN      NaN  \n",
              "70          NaN                 NaN              NaN      NaN  \n",
              "71          NaN                 NaN              NaN      NaN  \n",
              "72          NaN                 NaN              NaN      NaN  \n",
              "\n",
              "[73 rows x 7 columns]"
            ],
            "text/html": [
              "\n",
              "  <div id=\"df-77b5be52-201f-4e42-b853-0e51e71a60e0\">\n",
              "    <div class=\"colab-df-container\">\n",
              "      <div>\n",
              "<style scoped>\n",
              "    .dataframe tbody tr th:only-of-type {\n",
              "        vertical-align: middle;\n",
              "    }\n",
              "\n",
              "    .dataframe tbody tr th {\n",
              "        vertical-align: top;\n",
              "    }\n",
              "\n",
              "    .dataframe thead th {\n",
              "        text-align: right;\n",
              "    }\n",
              "</style>\n",
              "<table border=\"1\" class=\"dataframe\">\n",
              "  <thead>\n",
              "    <tr style=\"text-align: right;\">\n",
              "      <th></th>\n",
              "      <th>title</th>\n",
              "      <th>Description</th>\n",
              "      <th>ASIN</th>\n",
              "      <th>Manufacturer</th>\n",
              "      <th>Ratting</th>\n",
              "      <th>Views</th>\n",
              "      <th>Price</th>\n",
              "    </tr>\n",
              "  </thead>\n",
              "  <tbody>\n",
              "    <tr>\n",
              "      <th>0</th>\n",
              "      <td>DELL PO1520PS Laptop Bag 15\" Backpack Black Gr...</td>\n",
              "      <td>[  \\n This fits your .\\n     \\n  Make sure thi...</td>\n",
              "      <td>B07PMQTB6T</td>\n",
              "      <td>NAN</td>\n",
              "      <td>4.6 out of 5 stars</td>\n",
              "      <td>1,590 ratings</td>\n",
              "      <td>$58.70</td>\n",
              "    </tr>\n",
              "    <tr>\n",
              "      <th>1</th>\n",
              "      <td>RL Swisslook Polyster Bange Series 45L USB Tra...</td>\n",
              "      <td>[  \\n This fits your .\\n     \\n  Make sure thi...</td>\n",
              "      <td>B07XYTZP4Z</td>\n",
              "      <td>NAN</td>\n",
              "      <td>4.3 out of 5 stars</td>\n",
              "      <td>1,313 ratings</td>\n",
              "      <td>$137.00</td>\n",
              "    </tr>\n",
              "    <tr>\n",
              "      <th>2</th>\n",
              "      <td>NAN</td>\n",
              "      <td>NAN</td>\n",
              "      <td>NAN</td>\n",
              "      <td>NAN</td>\n",
              "      <td>NAN</td>\n",
              "      <td>NAN</td>\n",
              "      <td>NAN</td>\n",
              "    </tr>\n",
              "    <tr>\n",
              "      <th>3</th>\n",
              "      <td>Wesley Milestone 2.0 15.6 inch 30 L Casual Wat...</td>\n",
              "      <td>[  \\n This fits your .\\n     \\n  Make sure thi...</td>\n",
              "      <td>B084JGJ8PF</td>\n",
              "      <td>NAN</td>\n",
              "      <td>4.3 out of 5 stars</td>\n",
              "      <td>5,617 ratings</td>\n",
              "      <td>$76.00</td>\n",
              "    </tr>\n",
              "    <tr>\n",
              "      <th>4</th>\n",
              "      <td>NAN</td>\n",
              "      <td>NAN</td>\n",
              "      <td>NAN</td>\n",
              "      <td>NAN</td>\n",
              "      <td>NAN</td>\n",
              "      <td>NAN</td>\n",
              "      <td>NAN</td>\n",
              "    </tr>\n",
              "    <tr>\n",
              "      <th>...</th>\n",
              "      <td>...</td>\n",
              "      <td>...</td>\n",
              "      <td>...</td>\n",
              "      <td>...</td>\n",
              "      <td>...</td>\n",
              "      <td>...</td>\n",
              "      <td>...</td>\n",
              "    </tr>\n",
              "    <tr>\n",
              "      <th>68</th>\n",
              "      <td>Amazon.com | Wesley Milestone 15.6 inch Casual...</td>\n",
              "      <td>NAN</td>\n",
              "      <td>NaN</td>\n",
              "      <td>NaN</td>\n",
              "      <td>NaN</td>\n",
              "      <td>NaN</td>\n",
              "      <td>NaN</td>\n",
              "    </tr>\n",
              "    <tr>\n",
              "      <th>69</th>\n",
              "      <td>Amazon.com: Half Moon Strike 35L Unisex Spacio...</td>\n",
              "      <td>[  \\n This fits your .\\n     \\n  Make sure thi...</td>\n",
              "      <td>NaN</td>\n",
              "      <td>NaN</td>\n",
              "      <td>NaN</td>\n",
              "      <td>NaN</td>\n",
              "      <td>NaN</td>\n",
              "    </tr>\n",
              "    <tr>\n",
              "      <th>70</th>\n",
              "      <td>\\n      Page Not Found\\n</td>\n",
              "      <td>NaN</td>\n",
              "      <td>NaN</td>\n",
              "      <td>NaN</td>\n",
              "      <td>NaN</td>\n",
              "      <td>NaN</td>\n",
              "      <td>NaN</td>\n",
              "    </tr>\n",
              "    <tr>\n",
              "      <th>71</th>\n",
              "      <td>\\n      Page Not Found\\n</td>\n",
              "      <td>NaN</td>\n",
              "      <td>NaN</td>\n",
              "      <td>NaN</td>\n",
              "      <td>NaN</td>\n",
              "      <td>NaN</td>\n",
              "      <td>NaN</td>\n",
              "    </tr>\n",
              "    <tr>\n",
              "      <th>72</th>\n",
              "      <td>Amazon.com: Martucci 16 inch 36L Casual Waterp...</td>\n",
              "      <td>NaN</td>\n",
              "      <td>NaN</td>\n",
              "      <td>NaN</td>\n",
              "      <td>NaN</td>\n",
              "      <td>NaN</td>\n",
              "      <td>NaN</td>\n",
              "    </tr>\n",
              "  </tbody>\n",
              "</table>\n",
              "<p>73 rows × 7 columns</p>\n",
              "</div>\n",
              "      <button class=\"colab-df-convert\" onclick=\"convertToInteractive('df-77b5be52-201f-4e42-b853-0e51e71a60e0')\"\n",
              "              title=\"Convert this dataframe to an interactive table.\"\n",
              "              style=\"display:none;\">\n",
              "        \n",
              "  <svg xmlns=\"http://www.w3.org/2000/svg\" height=\"24px\"viewBox=\"0 0 24 24\"\n",
              "       width=\"24px\">\n",
              "    <path d=\"M0 0h24v24H0V0z\" fill=\"none\"/>\n",
              "    <path d=\"M18.56 5.44l.94 2.06.94-2.06 2.06-.94-2.06-.94-.94-2.06-.94 2.06-2.06.94zm-11 1L8.5 8.5l.94-2.06 2.06-.94-2.06-.94L8.5 2.5l-.94 2.06-2.06.94zm10 10l.94 2.06.94-2.06 2.06-.94-2.06-.94-.94-2.06-.94 2.06-2.06.94z\"/><path d=\"M17.41 7.96l-1.37-1.37c-.4-.4-.92-.59-1.43-.59-.52 0-1.04.2-1.43.59L10.3 9.45l-7.72 7.72c-.78.78-.78 2.05 0 2.83L4 21.41c.39.39.9.59 1.41.59.51 0 1.02-.2 1.41-.59l7.78-7.78 2.81-2.81c.8-.78.8-2.07 0-2.86zM5.41 20L4 18.59l7.72-7.72 1.47 1.35L5.41 20z\"/>\n",
              "  </svg>\n",
              "      </button>\n",
              "      \n",
              "  <style>\n",
              "    .colab-df-container {\n",
              "      display:flex;\n",
              "      flex-wrap:wrap;\n",
              "      gap: 12px;\n",
              "    }\n",
              "\n",
              "    .colab-df-convert {\n",
              "      background-color: #E8F0FE;\n",
              "      border: none;\n",
              "      border-radius: 50%;\n",
              "      cursor: pointer;\n",
              "      display: none;\n",
              "      fill: #1967D2;\n",
              "      height: 32px;\n",
              "      padding: 0 0 0 0;\n",
              "      width: 32px;\n",
              "    }\n",
              "\n",
              "    .colab-df-convert:hover {\n",
              "      background-color: #E2EBFA;\n",
              "      box-shadow: 0px 1px 2px rgba(60, 64, 67, 0.3), 0px 1px 3px 1px rgba(60, 64, 67, 0.15);\n",
              "      fill: #174EA6;\n",
              "    }\n",
              "\n",
              "    [theme=dark] .colab-df-convert {\n",
              "      background-color: #3B4455;\n",
              "      fill: #D2E3FC;\n",
              "    }\n",
              "\n",
              "    [theme=dark] .colab-df-convert:hover {\n",
              "      background-color: #434B5C;\n",
              "      box-shadow: 0px 1px 3px 1px rgba(0, 0, 0, 0.15);\n",
              "      filter: drop-shadow(0px 1px 2px rgba(0, 0, 0, 0.3));\n",
              "      fill: #FFFFFF;\n",
              "    }\n",
              "  </style>\n",
              "\n",
              "      <script>\n",
              "        const buttonEl =\n",
              "          document.querySelector('#df-77b5be52-201f-4e42-b853-0e51e71a60e0 button.colab-df-convert');\n",
              "        buttonEl.style.display =\n",
              "          google.colab.kernel.accessAllowed ? 'block' : 'none';\n",
              "\n",
              "        async function convertToInteractive(key) {\n",
              "          const element = document.querySelector('#df-77b5be52-201f-4e42-b853-0e51e71a60e0');\n",
              "          const dataTable =\n",
              "            await google.colab.kernel.invokeFunction('convertToInteractive',\n",
              "                                                     [key], {});\n",
              "          if (!dataTable) return;\n",
              "\n",
              "          const docLinkHtml = 'Like what you see? Visit the ' +\n",
              "            '<a target=\"_blank\" href=https://colab.research.google.com/notebooks/data_table.ipynb>data table notebook</a>'\n",
              "            + ' to learn more about interactive tables.';\n",
              "          element.innerHTML = '';\n",
              "          dataTable['output_type'] = 'display_data';\n",
              "          await google.colab.output.renderOutput(dataTable, element);\n",
              "          const docLink = document.createElement('div');\n",
              "          docLink.innerHTML = docLinkHtml;\n",
              "          element.appendChild(docLink);\n",
              "        }\n",
              "      </script>\n",
              "    </div>\n",
              "  </div>\n",
              "  "
            ]
          },
          "metadata": {},
          "execution_count": 18
        }
      ]
    },
    {
      "cell_type": "code",
      "source": [
        "display(df)"
      ],
      "metadata": {
        "colab": {
          "base_uri": "https://localhost:8080/",
          "height": 423
        },
        "id": "EFHpGNdN0k66",
        "outputId": "a1eababf-77d1-44f7-9548-7fcc167ee71d"
      },
      "execution_count": 20,
      "outputs": [
        {
          "output_type": "display_data",
          "data": {
            "text/plain": [
              "                                                title  \\\n",
              "0   DELL PO1520PS Laptop Bag 15\" Backpack Black Gr...   \n",
              "1   RL Swisslook Polyster Bange Series 45L USB Tra...   \n",
              "2                                                 NAN   \n",
              "3   Wesley Milestone 2.0 15.6 inch 30 L Casual Wat...   \n",
              "4                                                 NAN   \n",
              "..                                                ...   \n",
              "68  Amazon.com | Wesley Milestone 15.6 inch Casual...   \n",
              "69  Amazon.com: Half Moon Strike 35L Unisex Spacio...   \n",
              "70                       \\n      Page Not Found\\n       \n",
              "71                       \\n      Page Not Found\\n       \n",
              "72  Amazon.com: Martucci 16 inch 36L Casual Waterp...   \n",
              "\n",
              "                                          Description        ASIN  \\\n",
              "0   [  \\n This fits your .\\n     \\n  Make sure thi...  B07PMQTB6T   \n",
              "1   [  \\n This fits your .\\n     \\n  Make sure thi...  B07XYTZP4Z   \n",
              "2                                                 NAN         NAN   \n",
              "3   [  \\n This fits your .\\n     \\n  Make sure thi...  B084JGJ8PF   \n",
              "4                                                 NAN         NAN   \n",
              "..                                                ...         ...   \n",
              "68                                                NAN         NaN   \n",
              "69  [  \\n This fits your .\\n     \\n  Make sure thi...         NaN   \n",
              "70                                                NaN         NaN   \n",
              "71                                                NaN         NaN   \n",
              "72                                                NaN         NaN   \n",
              "\n",
              "   Manufacturer             Ratting            Views    Price  \n",
              "0           NAN  4.6 out of 5 stars   1,590 ratings    $58.70  \n",
              "1           NAN  4.3 out of 5 stars   1,313 ratings   $137.00  \n",
              "2           NAN                 NAN              NAN      NAN  \n",
              "3           NAN  4.3 out of 5 stars   5,617 ratings    $76.00  \n",
              "4           NAN                 NAN              NAN      NAN  \n",
              "..          ...                 ...              ...      ...  \n",
              "68          NaN                 NaN              NaN      NaN  \n",
              "69          NaN                 NaN              NaN      NaN  \n",
              "70          NaN                 NaN              NaN      NaN  \n",
              "71          NaN                 NaN              NaN      NaN  \n",
              "72          NaN                 NaN              NaN      NaN  \n",
              "\n",
              "[73 rows x 7 columns]"
            ],
            "text/html": [
              "\n",
              "  <div id=\"df-200b2e41-96a7-4f2c-9fc3-ca87c923fdb1\">\n",
              "    <div class=\"colab-df-container\">\n",
              "      <div>\n",
              "<style scoped>\n",
              "    .dataframe tbody tr th:only-of-type {\n",
              "        vertical-align: middle;\n",
              "    }\n",
              "\n",
              "    .dataframe tbody tr th {\n",
              "        vertical-align: top;\n",
              "    }\n",
              "\n",
              "    .dataframe thead th {\n",
              "        text-align: right;\n",
              "    }\n",
              "</style>\n",
              "<table border=\"1\" class=\"dataframe\">\n",
              "  <thead>\n",
              "    <tr style=\"text-align: right;\">\n",
              "      <th></th>\n",
              "      <th>title</th>\n",
              "      <th>Description</th>\n",
              "      <th>ASIN</th>\n",
              "      <th>Manufacturer</th>\n",
              "      <th>Ratting</th>\n",
              "      <th>Views</th>\n",
              "      <th>Price</th>\n",
              "    </tr>\n",
              "  </thead>\n",
              "  <tbody>\n",
              "    <tr>\n",
              "      <th>0</th>\n",
              "      <td>DELL PO1520PS Laptop Bag 15\" Backpack Black Gr...</td>\n",
              "      <td>[  \\n This fits your .\\n     \\n  Make sure thi...</td>\n",
              "      <td>B07PMQTB6T</td>\n",
              "      <td>NAN</td>\n",
              "      <td>4.6 out of 5 stars</td>\n",
              "      <td>1,590 ratings</td>\n",
              "      <td>$58.70</td>\n",
              "    </tr>\n",
              "    <tr>\n",
              "      <th>1</th>\n",
              "      <td>RL Swisslook Polyster Bange Series 45L USB Tra...</td>\n",
              "      <td>[  \\n This fits your .\\n     \\n  Make sure thi...</td>\n",
              "      <td>B07XYTZP4Z</td>\n",
              "      <td>NAN</td>\n",
              "      <td>4.3 out of 5 stars</td>\n",
              "      <td>1,313 ratings</td>\n",
              "      <td>$137.00</td>\n",
              "    </tr>\n",
              "    <tr>\n",
              "      <th>2</th>\n",
              "      <td>NAN</td>\n",
              "      <td>NAN</td>\n",
              "      <td>NAN</td>\n",
              "      <td>NAN</td>\n",
              "      <td>NAN</td>\n",
              "      <td>NAN</td>\n",
              "      <td>NAN</td>\n",
              "    </tr>\n",
              "    <tr>\n",
              "      <th>3</th>\n",
              "      <td>Wesley Milestone 2.0 15.6 inch 30 L Casual Wat...</td>\n",
              "      <td>[  \\n This fits your .\\n     \\n  Make sure thi...</td>\n",
              "      <td>B084JGJ8PF</td>\n",
              "      <td>NAN</td>\n",
              "      <td>4.3 out of 5 stars</td>\n",
              "      <td>5,617 ratings</td>\n",
              "      <td>$76.00</td>\n",
              "    </tr>\n",
              "    <tr>\n",
              "      <th>4</th>\n",
              "      <td>NAN</td>\n",
              "      <td>NAN</td>\n",
              "      <td>NAN</td>\n",
              "      <td>NAN</td>\n",
              "      <td>NAN</td>\n",
              "      <td>NAN</td>\n",
              "      <td>NAN</td>\n",
              "    </tr>\n",
              "    <tr>\n",
              "      <th>...</th>\n",
              "      <td>...</td>\n",
              "      <td>...</td>\n",
              "      <td>...</td>\n",
              "      <td>...</td>\n",
              "      <td>...</td>\n",
              "      <td>...</td>\n",
              "      <td>...</td>\n",
              "    </tr>\n",
              "    <tr>\n",
              "      <th>68</th>\n",
              "      <td>Amazon.com | Wesley Milestone 15.6 inch Casual...</td>\n",
              "      <td>NAN</td>\n",
              "      <td>NaN</td>\n",
              "      <td>NaN</td>\n",
              "      <td>NaN</td>\n",
              "      <td>NaN</td>\n",
              "      <td>NaN</td>\n",
              "    </tr>\n",
              "    <tr>\n",
              "      <th>69</th>\n",
              "      <td>Amazon.com: Half Moon Strike 35L Unisex Spacio...</td>\n",
              "      <td>[  \\n This fits your .\\n     \\n  Make sure thi...</td>\n",
              "      <td>NaN</td>\n",
              "      <td>NaN</td>\n",
              "      <td>NaN</td>\n",
              "      <td>NaN</td>\n",
              "      <td>NaN</td>\n",
              "    </tr>\n",
              "    <tr>\n",
              "      <th>70</th>\n",
              "      <td>\\n      Page Not Found\\n</td>\n",
              "      <td>NaN</td>\n",
              "      <td>NaN</td>\n",
              "      <td>NaN</td>\n",
              "      <td>NaN</td>\n",
              "      <td>NaN</td>\n",
              "      <td>NaN</td>\n",
              "    </tr>\n",
              "    <tr>\n",
              "      <th>71</th>\n",
              "      <td>\\n      Page Not Found\\n</td>\n",
              "      <td>NaN</td>\n",
              "      <td>NaN</td>\n",
              "      <td>NaN</td>\n",
              "      <td>NaN</td>\n",
              "      <td>NaN</td>\n",
              "      <td>NaN</td>\n",
              "    </tr>\n",
              "    <tr>\n",
              "      <th>72</th>\n",
              "      <td>Amazon.com: Martucci 16 inch 36L Casual Waterp...</td>\n",
              "      <td>NaN</td>\n",
              "      <td>NaN</td>\n",
              "      <td>NaN</td>\n",
              "      <td>NaN</td>\n",
              "      <td>NaN</td>\n",
              "      <td>NaN</td>\n",
              "    </tr>\n",
              "  </tbody>\n",
              "</table>\n",
              "<p>73 rows × 7 columns</p>\n",
              "</div>\n",
              "      <button class=\"colab-df-convert\" onclick=\"convertToInteractive('df-200b2e41-96a7-4f2c-9fc3-ca87c923fdb1')\"\n",
              "              title=\"Convert this dataframe to an interactive table.\"\n",
              "              style=\"display:none;\">\n",
              "        \n",
              "  <svg xmlns=\"http://www.w3.org/2000/svg\" height=\"24px\"viewBox=\"0 0 24 24\"\n",
              "       width=\"24px\">\n",
              "    <path d=\"M0 0h24v24H0V0z\" fill=\"none\"/>\n",
              "    <path d=\"M18.56 5.44l.94 2.06.94-2.06 2.06-.94-2.06-.94-.94-2.06-.94 2.06-2.06.94zm-11 1L8.5 8.5l.94-2.06 2.06-.94-2.06-.94L8.5 2.5l-.94 2.06-2.06.94zm10 10l.94 2.06.94-2.06 2.06-.94-2.06-.94-.94-2.06-.94 2.06-2.06.94z\"/><path d=\"M17.41 7.96l-1.37-1.37c-.4-.4-.92-.59-1.43-.59-.52 0-1.04.2-1.43.59L10.3 9.45l-7.72 7.72c-.78.78-.78 2.05 0 2.83L4 21.41c.39.39.9.59 1.41.59.51 0 1.02-.2 1.41-.59l7.78-7.78 2.81-2.81c.8-.78.8-2.07 0-2.86zM5.41 20L4 18.59l7.72-7.72 1.47 1.35L5.41 20z\"/>\n",
              "  </svg>\n",
              "      </button>\n",
              "      \n",
              "  <style>\n",
              "    .colab-df-container {\n",
              "      display:flex;\n",
              "      flex-wrap:wrap;\n",
              "      gap: 12px;\n",
              "    }\n",
              "\n",
              "    .colab-df-convert {\n",
              "      background-color: #E8F0FE;\n",
              "      border: none;\n",
              "      border-radius: 50%;\n",
              "      cursor: pointer;\n",
              "      display: none;\n",
              "      fill: #1967D2;\n",
              "      height: 32px;\n",
              "      padding: 0 0 0 0;\n",
              "      width: 32px;\n",
              "    }\n",
              "\n",
              "    .colab-df-convert:hover {\n",
              "      background-color: #E2EBFA;\n",
              "      box-shadow: 0px 1px 2px rgba(60, 64, 67, 0.3), 0px 1px 3px 1px rgba(60, 64, 67, 0.15);\n",
              "      fill: #174EA6;\n",
              "    }\n",
              "\n",
              "    [theme=dark] .colab-df-convert {\n",
              "      background-color: #3B4455;\n",
              "      fill: #D2E3FC;\n",
              "    }\n",
              "\n",
              "    [theme=dark] .colab-df-convert:hover {\n",
              "      background-color: #434B5C;\n",
              "      box-shadow: 0px 1px 3px 1px rgba(0, 0, 0, 0.15);\n",
              "      filter: drop-shadow(0px 1px 2px rgba(0, 0, 0, 0.3));\n",
              "      fill: #FFFFFF;\n",
              "    }\n",
              "  </style>\n",
              "\n",
              "      <script>\n",
              "        const buttonEl =\n",
              "          document.querySelector('#df-200b2e41-96a7-4f2c-9fc3-ca87c923fdb1 button.colab-df-convert');\n",
              "        buttonEl.style.display =\n",
              "          google.colab.kernel.accessAllowed ? 'block' : 'none';\n",
              "\n",
              "        async function convertToInteractive(key) {\n",
              "          const element = document.querySelector('#df-200b2e41-96a7-4f2c-9fc3-ca87c923fdb1');\n",
              "          const dataTable =\n",
              "            await google.colab.kernel.invokeFunction('convertToInteractive',\n",
              "                                                     [key], {});\n",
              "          if (!dataTable) return;\n",
              "\n",
              "          const docLinkHtml = 'Like what you see? Visit the ' +\n",
              "            '<a target=\"_blank\" href=https://colab.research.google.com/notebooks/data_table.ipynb>data table notebook</a>'\n",
              "            + ' to learn more about interactive tables.';\n",
              "          element.innerHTML = '';\n",
              "          dataTable['output_type'] = 'display_data';\n",
              "          await google.colab.output.renderOutput(dataTable, element);\n",
              "          const docLink = document.createElement('div');\n",
              "          docLink.innerHTML = docLinkHtml;\n",
              "          element.appendChild(docLink);\n",
              "        }\n",
              "      </script>\n",
              "    </div>\n",
              "  </div>\n",
              "  "
            ]
          },
          "metadata": {}
        }
      ]
    },
    {
      "cell_type": "code",
      "source": [
        "df.to_csv('file2.csv')"
      ],
      "metadata": {
        "id": "w9fiZ6OT01fw"
      },
      "execution_count": null,
      "outputs": []
    }
  ]
}